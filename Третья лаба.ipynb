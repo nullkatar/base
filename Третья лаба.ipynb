{
 "cells": [
  {
   "cell_type": "code",
   "execution_count": 7,
   "metadata": {},
   "outputs": [
    {
     "name": "stdout",
     "output_type": "stream",
     "text": [
      "Model\n",
      "20.19761124253273\n",
      "59.68627879023552\n",
      "118.91357392072678\n",
      "197.87477761507034\n",
      "Unconst\n",
      "29.610591411590576\n",
      "57.499011516571045\n",
      "87.05309438705444\n",
      "117.73338651657104\n",
      "173.33983182907104\n"
     ]
    }
   ],
   "source": [
    "L = 10001\n",
    "slot = [0, 1]\n",
    "h = (slot[1] - slot[0]) / (L - 1)\n",
    "\n",
    "\n",
    "def x_l(i):\n",
    "    return h * i\n",
    "\n",
    "\n",
    "def comp_alpha_beta(l):\n",
    "    alpha = [0] * (L - 1)\n",
    "    beta = [0] * (L - 1)\n",
    "    alpha[2] = -1 / (6 - 2 * l * h * h)\n",
    "    beta[2] = (4 - l * h * h) / (6 - 2 * l * h * h)\n",
    "    for i in range(3, L - 1):\n",
    "        d = 12 - x_l(L - 1) - x_l(L - 1) - 4 * x_l(L - 1) - 2 * l * h * h + beta[i - 1] * (\n",
    "        -8 + 2 * x_l(L - 1) + 2 * x_l(L - 1) + l * h * h) + (2 - x_l(L - 1)) * (\n",
    "        alpha[i - 2] + beta[i - 1] * beta[i - 2])\n",
    "        alpha[i] = (-2 + x_l(L - 1)) / d\n",
    "        beta[i] = (8 - 2 * x_l(L - 1) - 2 * x_l(L - 1) - l * h * h - alpha[i - 1] * (\n",
    "        -8 + 2 * x_l(L - 1) + 2 * x_l(L - 1) + l * h * h) - (2 - x_l(L - 1)) * beta[i - 2] * alpha[i - 1]) / d\n",
    "    return alpha, beta\n",
    "\n",
    "\n",
    "def comp_alpha_beta_unconst(l):\n",
    "    alpha = [0] * (L - 1)\n",
    "    beta = [0] * (L - 1)\n",
    "    alpha[2] = (-2+3*h)/(12-12*h-2*l*h*h)\n",
    "    beta[2] = (8-10*h-l*h*h)/(12-12*h-2*l*h*h)\n",
    "    for i in range(3, L - 1):\n",
    "        d = 12 - x_l(i + 1) - x_l(i - 1) - 4 * x_l(i) - 2 * l * h * h + beta[i - 1] * (\n",
    "            -8 + 2 * x_l(i) + 2 * x_l(i - 1) + l * h * h) + (2 - x_l(i - 1)) * (\n",
    "            alpha[i - 2] + beta[i - 1] * beta[i - 2])\n",
    "        alpha[i] = (-2 + x_l(i + 1)) / d\n",
    "        beta[i] = (8 - 2 * x_l(i + 1) - 2 * x_l(i) - l * h * h + alpha[i - 1] * (\n",
    "            8 - 2 * x_l(i) - 2 * x_l(i - 1) - l * h * h) - (2 - x_l(i - 1)) * beta[i - 2] * alpha[i - 1]) / d\n",
    "    return alpha, beta\n",
    "\n",
    "\n",
    "def find_l(left, right, f):\n",
    "    alpha, beta = f(left)\n",
    "    if (beta[L - 2] - 2) > 0:\n",
    "        left_sign = 1\n",
    "    else:\n",
    "        left_sign = -1\n",
    "    alpha, beta = f(right)\n",
    "    if (beta[L - 2] - 2) > 0:\n",
    "        right_sign = 1\n",
    "    else:\n",
    "        right_sign = -1\n",
    "    middle = (left + right) / 2\n",
    "    alpha, beta = f(middle)\n",
    "    while abs(right-left) > 1e-6:\n",
    "        if (beta[L - 2] - 2) > 0:\n",
    "            middle_sign = 1\n",
    "        else:\n",
    "            middle_sign = -1\n",
    "        if (middle_sign * right_sign) <= 0:\n",
    "            left = middle\n",
    "            left_sign = middle_sign\n",
    "        else:\n",
    "            # if (right_sign * middle_sign) < 0:\n",
    "                right = middle\n",
    "                right_sign = middle_sign\n",
    "        middle = (left + right) / 2\n",
    "        alpha, beta = f(middle)\n",
    "    return middle\n",
    "\n",
    "\n",
    "print(\"Model\")\n",
    "print(find_l(16, 25, comp_alpha_beta))\n",
    "print(find_l(49, 64, comp_alpha_beta))\n",
    "print(find_l(110, 120, comp_alpha_beta))\n",
    "print(find_l(190, 200, comp_alpha_beta))\n",
    "\n",
    "print(\"Unconst\")\n",
    "counter = 0\n",
    "step = 2\n",
    "#print(find_l(29, 30, comp_alpha_beta_unconst))\n",
    "#print(find_l(55, 60, comp_alpha_beta_unconst))\n",
    "#print(find_l(85, 90, comp_alpha_beta_unconst))\n",
    "#print(find_l(115, 120, comp_alpha_beta_unconst))\n",
    "\n",
    "for l in range(0, 1001, step):\n",
    "    alpha1, beta1 = comp_alpha_beta_unconst(l)\n",
    "    alpha2, beta2 = comp_alpha_beta_unconst(l + step)\n",
    "    if (beta1[L - 2] - 2) * (beta2[L - 2] - 2) < 0:\n",
    "        print(find_l(l, l + step, comp_alpha_beta_unconst))\n",
    "        counter += 1\n",
    "    if counter >= 5:\n",
    "        break\n"
   ]
  },
  {
   "cell_type": "code",
   "execution_count": 6,
   "metadata": {},
   "outputs": [
    {
     "name": "stdout",
     "output_type": "stream",
     "text": [
      "29.62151199579239\n",
      "57.48764008283615\n",
      "87.05664962530136\n",
      "117.72209137678146\n",
      "173.36082488298416\n"
     ]
    }
   ],
   "source": [
    "for l in range(0, 1001, step):\n",
    "    alpha1, beta1 = comp_alpha_beta_unconst(l)\n",
    "    alpha2, beta2 = comp_alpha_beta_unconst(l + step)\n",
    "    if (beta1[L - 2] - 2) * (beta2[L - 2] - 2) < 0:\n",
    "        print(find_l(l, l + step, comp_alpha_beta_unconst))\n",
    "        counter += 1\n",
    "    if counter >= 5:\n",
    "        break"
   ]
  },
  {
   "cell_type": "code",
   "execution_count": null,
   "metadata": {
    "collapsed": true
   },
   "outputs": [],
   "source": []
  }
 ],
 "metadata": {
  "kernelspec": {
   "display_name": "Python 3",
   "language": "python",
   "name": "python3"
  },
  "language_info": {
   "codemirror_mode": {
    "name": "ipython",
    "version": 3
   },
   "file_extension": ".py",
   "mimetype": "text/x-python",
   "name": "python",
   "nbconvert_exporter": "python",
   "pygments_lexer": "ipython3",
   "version": "3.6.2"
  }
 },
 "nbformat": 4,
 "nbformat_minor": 2
}
