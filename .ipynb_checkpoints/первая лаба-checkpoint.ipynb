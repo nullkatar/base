{
 "cells": [
  {
   "cell_type": "code",
   "execution_count": 29,
   "metadata": {},
   "outputs": [
    {
     "name": "stdout",
     "output_type": "stream",
     "text": [
      "Введите шаг сетки\n",
      "0.05\n",
      "Введите y1(0) и y2(0)\n",
      "5\n",
      "2\n"
     ]
    }
   ],
   "source": [
    "import numpy as np\n",
    "import math as m\n",
    "\n",
    "G = np.array([[-101., 250.], [40., -101.]])\n",
    "x = 0\n",
    "print ('Введите шаг сетки')\n",
    "h = float(input())\n",
    "    \n",
    "print ('Введите y1(0) и y2(0)')\n",
    "y10 = float(input())\n",
    "y20 = float(input())\n",
    "    \n",
    "y = np.array([[y10], [y20]])\n",
    "c1 = (2*y10 + 5*y20)/20\n",
    "c2 = (2*y10 - 5*y20)/20                 #ODE coef solved by hands\n",
    "    \n",
    "x_arr, y1, y2, y1_apr, y2_apr, delta_y1, delta_y2 = [], [], [], [], [], [], []  \n",
    "        \n",
    "    \n",
    "    \n",
    "while x <= 1+h:\n",
    "    \n",
    "    x_arr.append(x)\n",
    "    y1.append(y[0])        \n",
    "    Y = (c1*m.exp(-x))*np.array([[5], [2]]) + (c2*m.exp(-201*x))*np.array([[-5], [2]])      #real ODE solution\n",
    "    y1_apr.append(y[0])  \n",
    "    y2.append(y[1])                                    #beautiful output\n",
    "    y2_apr.append(Y[1])        \n",
    "    delta_y1.append(y[0] - Y[0])\n",
    "    delta_y2.append(y[1] - Y[1])        \n",
    "    \n",
    "    k1 = np.dot(G, y)\n",
    "    k2 = np.dot(G, y + h*k1/2)                          #Runge-Kutta\n",
    "    k3 = np.dot(G, y + h*k2/2)\n",
    "    k4 = np.dot(G, y + h*k3)\n",
    "    y = h*(k1 + 2*k2 + 2*k3 + k4)/6 + y\n",
    "    x = x + h\n",
    "        \n",
    "result = [[0 for x in range(7)] for y in range(int(1/h))] \n",
    "\n",
    "for i in range(int(1/h)):\n",
    "    result[i][0] = round(x_arr[i],4)\n",
    "    result[i][1] = round(y1[i],16)\n",
    "    result[i][3] = round(y2[i],16)\n",
    "    result[i][2] = round(y1_apr[i],16)                #beautiful output\n",
    "    result[i][4] = round(y2_apr[i],16)\n",
    "    result[i][5] = round(delta_y1[i],15)\n",
    "    result[i][6] = round(delta_y2[i],15)\n",
    "    \n",
    "    \n",
    "        "
   ]
  },
  {
   "cell_type": "code",
   "execution_count": null,
   "metadata": {
    "collapsed": true
   },
   "outputs": [],
   "source": []
  }
 ],
 "metadata": {
  "kernelspec": {
   "display_name": "Python 2",
   "language": "python",
   "name": "python2"
  },
  "language_info": {
   "codemirror_mode": {
    "name": "ipython",
    "version": 2
   },
   "file_extension": ".py",
   "mimetype": "text/x-python",
   "name": "python",
   "nbconvert_exporter": "python",
   "pygments_lexer": "ipython2",
   "version": "2.7.13"
  }
 },
 "nbformat": 4,
 "nbformat_minor": 2
}
