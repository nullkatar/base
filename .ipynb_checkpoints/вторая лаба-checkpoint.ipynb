{
 "cells": [
  {
   "cell_type": "code",
   "execution_count": 2,
   "metadata": {},
   "outputs": [
    {
     "name": "stdout",
     "output_type": "stream",
     "text": [
      "Введите количество узлов сетки\n",
      "1000\n"
     ]
    }
   ],
   "source": [
    "#аналитическое решение с постоянными кожэффиициентами \n",
    "import math as m\n",
    "import numpy as np\n",
    "\n",
    "print ('Введите количество узлов сетки')\n",
    "L = float(input())\n",
    "h = 1/L\n",
    "L = int(L)\n",
    "\n",
    "U = []\n",
    "x = 0\n",
    "x0 = 0.125\n",
    "def ka(x) : \n",
    "    return x + 1\n",
    "def qa(x):\n",
    "    return m.exp(-x)\n",
    "def fa(x):\n",
    "    return m.cos(x)\n",
    "def kb(x):\n",
    "    return x * x\n",
    "def qb(x):\n",
    "    return m.exp(-x)\n",
    "def fb(x):\n",
    "    return 1\n",
    "\n",
    "u0 = 0\n",
    "u1 = 0\n",
    "la = m.sqrt(qa(x0)/ka(x0))\n",
    "lb = m.sqrt(qb(x0)/kb(x0))\n",
    "\n",
    "ma = fa(x0)/qa(x0)\n",
    "mb = fb(x0)/qb(x0)\n",
    "\n",
    "A11 = m.exp(-la * x0) - m.exp(la * x0)\n",
    "A12 = m.exp(lb * (2 - x0)) - m.exp(lb * x0)\n",
    "A21 = ka(x0) * la * (m.exp(la * x0) + m.exp(-la * x0))\n",
    "A22 = kb(x0) * lb * (m.exp(lb*(2 - x0)) + m.exp(lb * x0))\n",
    "\n",
    "B1 = mb - ma + (ma - u0) * m.exp(la * x0) - (mb - u1) * m.exp(lb * (1 - x0))\n",
    "B2 = ka(x0) * la * (u0 - ma) * m.exp(la * x0) + kb(x0) * lb * (u1 - mb) * m.exp(lb*(1 - x0))\n",
    "C1 = (((u0 - ma)*A11 - B1)*A22 - ((u0 - ma) * A21 - B2) * A12) / (A11 * A22 - A21 * A12)\n",
    "C2 = (B1 * A22 - B2 * A12) / (A11 * A22 - A12 * A21)\n",
    "C3 = (B2 * A11 - B1 * A21) / (A11 * A22 - A12 * A21)\n",
    "C4 = (u1 - mb) * m.exp(lb) - C3 * m.exp(2*lb)\n",
    "\n",
    "while x < x0 :\n",
    "    u_g = C1 * m.exp(la * x) + C2 * m.exp( - la * x ) + ma\n",
    "    U.append(u_g)\n",
    "    x+=h\n",
    "\n",
    "while x0 <= x < 1 :\n",
    "    u_g =  C3 * m.exp( lb * x ) + C4 * m.exp ( -lb * x ) + mb\n",
    "    U.append(u_g)\n",
    "    x+=h\n",
    "\n",
    "\n"
   ]
  },
  {
   "cell_type": "code",
   "execution_count": 3,
   "metadata": {
    "collapsed": true,
    "scrolled": true
   },
   "outputs": [],
   "source": [
    "#численое решение с постоянными коэффициентами\n",
    "al = [0, 0, 0]\n",
    "bl = [0, 0, 0]\n",
    "cl = [0, 0, 0]\n",
    "dl = [0, 0, 0]\n",
    "al[1] = ka(x0)\n",
    "bl[1] = - 2 * ka(x0) - qa(x0) * h * h\n",
    "cl[1] = ka(x0)\n",
    "dl[1] = - fa(x0) * h * h\n",
    "al[2] = kb(x0)\n",
    "bl[2] = - 2 * kb(x0) - qb(x0) * h * h\n",
    "cl[2] = kb(x0)\n",
    "dl[2] = - fb(x0) * h * h\n",
    "\n",
    "\n",
    "alpha = [0 for x in range(L)]\n",
    "alpha[0] = - al[1] / bl[1]\n",
    "alpha[L - 1] =  - cl[2] / bl[2]\n",
    "beta = [0 for x in range(L)]\n",
    "beta[L - 1] = (dl[2] - cl[2] * u1) / bl[2]\n",
    "beta[0] = (dl[1] - cl[1] * u0 ) / bl[1]\n",
    "Un = [0 for x in range(L)]\n",
    "Un[1] = - alpha[1] * Un[2] + beta[1]\n",
    "\n",
    "\n",
    "tmp = np.arange(0, 1, h)\n",
    "top = []\n",
    "low = []\n",
    "for i in range(len(tmp)):\n",
    "    if tmp[i] < x0 :\n",
    "        low.append(round(tmp[i], 10))\n",
    "\n",
    "for i in range(len(tmp)):\n",
    "    if tmp[i] > x0 :\n",
    "        top.append(round(tmp[i], 10))     \n",
    "\n",
    "\n",
    "\n",
    "x = 0\n",
    "f = L - 2\n",
    "\n",
    "Un[0] = u0\n",
    "Un[L - 1] = u1\n",
    "\n",
    "for i in range(1, len(low)):\n",
    "    alpha[i] = - al[1] / ( bl[1] + cl[1] * alpha[i - 1])\n",
    "    beta[i] = (dl[1] - cl[1] * beta[i - 1]) / ( bl[1] + cl[1] * alpha[i - 1])\n",
    "    x+=h\n",
    "    \n",
    "for j in range(len(top)):\n",
    "    f-=1\n",
    "    x+=h\n",
    "    alpha[f] = - cl[2] / ( bl[2] + al[2] * alpha[f + 1])\n",
    "    beta[f] = (dl[2] - al[2] * beta[f + 1]) / ( bl[2] + al[2] * alpha[f + 1])\n",
    "\n",
    "Un[len(low) + 1]  = ( ka(0) * beta[len(low) - 1] + kb(x0) * beta[len(low) + 2]) / (ka(x0) * ( 1 - alpha[len(low) - 1]) + kb(x0) * ( 1 - alpha[ len(low) + 2]))\n",
    "Un[len(low)] = Un[len(low) + 1]\n",
    "Un[len(low) - 1] = alpha[len(low) - 1] * Un[len(low)] * beta[len(low) - 1]\n",
    "Un[len(low) + 2] = alpha[len(low)  + 2] * Un[len(low) + 1] * beta[len(low) + 2]\n",
    "\n",
    "for i in range(1, len(low)):\n",
    "    Un[len(low) - i - 1] = alpha[len(low) - i - 1] * Un[len(low) - i] + beta[len(low) - i - 1]\n",
    "    \n",
    "for i in range(3, len(top) - 1):    \n",
    "    Un[len(low) + i] = alpha[len(low) + i] * Un[len(low) + i - 1] + beta[len(low) + i]\n",
    "\n",
    "    \n"
   ]
  },
  {
   "cell_type": "code",
   "execution_count": 4,
   "metadata": {
    "collapsed": true
   },
   "outputs": [],
   "source": [
    "diff = [0 for x in range(len(U) - 1)]\n",
    "for i in range(len(U) - 1):\n",
    "    diff[i] =  U[i] - Un[i]"
   ]
  },
  {
   "cell_type": "code",
   "execution_count": 5,
   "metadata": {},
   "outputs": [
    {
     "name": "stdout",
     "output_type": "stream",
     "text": [
      "0.0293544293936\n"
     ]
    }
   ],
   "source": [
    "print max(diff)"
   ]
  },
  {
   "cell_type": "code",
   "execution_count": 6,
   "metadata": {
    "collapsed": true
   },
   "outputs": [],
   "source": [
    "# коэффициенты не фиксированные \n",
    "\n",
    "def al(x):\n",
    "    return ka(x + h/2)\n",
    "def bl(x):\n",
    "    return - (ka(x + h/2) + ka(x - h/2) + qa(x) * h * h)\n",
    "def cl(x):\n",
    "    return ka(x - h/2)\n",
    "def dl(x):\n",
    "    return - fa(x) * h * h\n",
    "def ab(x):\n",
    "    return kb(x + h/2)\n",
    "def bb(x):\n",
    "    return - (kb(x + h/2) + kb(x - h/2) + qb(x) * h * h)\n",
    "def cb(x):\n",
    "    return kb(x - h/2)\n",
    "def db(x):\n",
    "    return - fb(x) * h * h\n",
    "\n",
    "x = 0\n",
    "\n",
    "Uun = [0 for x in range(L)]\n",
    "Uun[0] = u0\n",
    "Un[L - 1] = u1\n",
    "Un[len(low) + 1]  = (Un[len(low) - 1] * ka(x0) + kb(x0) * Un[len(low) + 2]) / (ka(x0) + kb(x0))\n",
    "Un[len(low)] = Un[len(low) + 1]\n",
    "\n",
    "for i in range(1, len(low)):\n",
    "    alpha[i] = - al(x) / ( bl(x) + cl(x) * alpha[i - 1])\n",
    "    beta[i] = (dl(x) - cl(x) * beta[i - 1]) / ( bl(x) + cl(x) * alpha[i - 1])\n",
    "    x+=h\n",
    "    \n",
    "for j in range(len(top)):\n",
    "    f-=1\n",
    "    x+=h\n",
    "    alpha[f] = - cl(x) / ( bl(x) + al(x) * alpha[f + 1])\n",
    "    beta[f] = (dl(x) - al(x) * beta[f + 1]) / ( bl(x) + al(x) * alpha[f + 1])\n"
   ]
  },
  {
   "cell_type": "code",
   "execution_count": null,
   "metadata": {
    "collapsed": true
   },
   "outputs": [],
   "source": []
  }
 ],
 "metadata": {
  "kernelspec": {
   "display_name": "Python 2",
   "language": "python",
   "name": "python2"
  },
  "language_info": {
   "codemirror_mode": {
    "name": "ipython",
    "version": 2
   },
   "file_extension": ".py",
   "mimetype": "text/x-python",
   "name": "python",
   "nbconvert_exporter": "python",
   "pygments_lexer": "ipython2",
   "version": "2.7.13"
  }
 },
 "nbformat": 4,
 "nbformat_minor": 2
}
